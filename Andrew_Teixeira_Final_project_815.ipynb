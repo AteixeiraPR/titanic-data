{
 "cells": [
  {
   "cell_type": "markdown",
   "metadata": {},
   "source": [
    "# Choosing a Dataset\n",
    "For the purposes of this project, I examined the Titanic dataset available from Kaggle.com. The dataset included personal information about surviviors and deceased from the Titanic tragedy, and can play an import role in determiningwhat factors led to survival, and which did not.\n",
    "\n"
   ]
  },
  {
   "cell_type": "markdown",
   "metadata": {},
   "source": [
    "# Choosing some questions \n",
    "\n",
    "As mentioned, I am curious as to whether or not some specific factors influenced the survival rate of passengers via the Titanic. Notably, I would like to look at whether or not sex, fare paid, and age had an affect on the survival outcome of passengers overall. Also, I would like to look at all the children aboard and determine whether their ages, when viewed in isolation, was highly-correlated with survival.\n",
    "\n",
    "**Question 1: What is the correlation between sex and survival?**\n",
    "\n",
    "**Question 2: What is the correlation between fare paid and survival?**\n",
    "\n",
    "**Question 3: What is the correlation between age and survivial?**\n",
    "\n",
    "**Question 4: What is the correlation between age (for children) and survival?**\n",
    "\n",
    "Additionally, I would like to examine some basic descriptive statistics to get a stronger glimpse into the dataset,\n",
    "\n",
    "**Question 5: Who is the oldest survivor, youngest survivor, oldest deceased, and youngest deceased?**\n",
    "\n",
    "Also, I am curious about the age of certain classes on board. Is there a stark age difference between rich and poor\n",
    "aboard the Titanic?\n",
    "\n",
    "**Question 6: What is the mean age per class aboard the titanic? **\n",
    "\n",
    "**Question 7: What is the survival percentage, based on this data, if you are a female, and what is the survival percentage if you are a male?**"
   ]
  },
  {
   "cell_type": "markdown",
   "metadata": {},
   "source": [
    "# Importing Packages & Data\n",
    "I am importing numpy, matplotlib, pandas, and seaborn at the beginning stages for use in the doc. Also, I will be adding the titanic data in as the variable 'titanic_data"
   ]
  },
  {
   "cell_type": "code",
   "execution_count": 341,
   "metadata": {},
   "outputs": [],
   "source": [
    "\n",
    "import numpy as np \n",
    "import matplotlib.pyplot as plt \n",
    "import pandas as pd \n",
    "import seaborn as sns\n",
    "%matplotlib inline\n",
    "titanic_data = pd.read_csv('/Users/andrewteixeira/Documents/IntroToProgrammingNanoDegree/ExtraCurricular/DataAnalysis/final_project/titanic_data.csv')"
   ]
  },
  {
   "cell_type": "markdown",
   "metadata": {},
   "source": [
    "# Examining the data at a high level\n",
    "By taking a look at the first 3 rows of the the DataFrame, I can get a look into what each row and column represent\n",
    "and how I may go about analyzing them"
   ]
  },
  {
   "cell_type": "code",
   "execution_count": 342,
   "metadata": {},
   "outputs": [
    {
     "name": "stdout",
     "output_type": "stream",
     "text": [
      "   PassengerId  Survived  Pclass  \\\n",
      "0            1         0       3   \n",
      "1            2         1       1   \n",
      "2            3         1       3   \n",
      "\n",
      "                                                Name     Sex   Age  SibSp  \\\n",
      "0                            Braund, Mr. Owen Harris    male  22.0      1   \n",
      "1  Cumings, Mrs. John Bradley (Florence Briggs Th...  female  38.0      1   \n",
      "2                             Heikkinen, Miss. Laina  female  26.0      0   \n",
      "\n",
      "   Parch            Ticket     Fare Cabin Embarked  \n",
      "0      0         A/5 21171   7.2500   NaN        S  \n",
      "1      0          PC 17599  71.2833   C85        C  \n",
      "2      0  STON/O2. 3101282   7.9250   NaN        S  \n"
     ]
    }
   ],
   "source": [
    "print (titanic_data.head(3))"
   ]
  },
  {
   "cell_type": "markdown",
   "metadata": {},
   "source": [
    "# Cleaning the data\n",
    "We will use the .isnull().sum() function in order to determine how many rows contain missing values in the table"
   ]
  },
  {
   "cell_type": "code",
   "execution_count": 343,
   "metadata": {},
   "outputs": [
    {
     "data": {
      "text/plain": [
       "PassengerId      0\n",
       "Survived         0\n",
       "Pclass           0\n",
       "Name             0\n",
       "Sex              0\n",
       "Age            177\n",
       "SibSp            0\n",
       "Parch            0\n",
       "Ticket           0\n",
       "Fare             0\n",
       "Cabin          687\n",
       "Embarked         2\n",
       "dtype: int64"
      ]
     },
     "execution_count": 343,
     "metadata": {},
     "output_type": "execute_result"
    }
   ],
   "source": [
    "titanic_data.isnull().sum()"
   ]
  },
  {
   "cell_type": "markdown",
   "metadata": {
    "collapsed": true
   },
   "source": [
    "## Cleaning the Data: Making neccessary changes\n",
    "Overall, the dataset is not missing many values we would like to investigate. We are missing 177 values for age, which may alter the data significantly as we evaluate the correlation between age and survival. We will have to remove those rows before calculation. \n",
    "\n",
    "**Removing AGE missing values**: We will tackle this later in the section when we come to the portion of evaluating age and survival. We will NOT remove the rows in which 'AGE' has a missing value until later on, as we will want a full dataset for other areas in which no data is missing (I.E. survived, Pclass etc.) \n",
    "\n",
    "**We will use the .dropna(axis=0) function in an altered dataframe (age_survived) that just includes just the age and survival column.**"
   ]
  },
  {
   "cell_type": "markdown",
   "metadata": {
    "collapsed": true
   },
   "source": [
    "## Cleaning the Data: Removing unneccessary columns\n",
    "Given the questions we would like to answer don't relate to the Cabin, Embarked, Ticket, Parch, and Sibsp columns - we will alter the titanic_data by selecting only the columns we care about at the START of the analysis"
   ]
  },
  {
   "cell_type": "code",
   "execution_count": 344,
   "metadata": {},
   "outputs": [],
   "source": [
    "titanic_data = titanic_data[['PassengerId','Survived','Pclass', 'Name', 'Sex', 'Age', 'Fare']]"
   ]
  },
  {
   "cell_type": "code",
   "execution_count": 345,
   "metadata": {},
   "outputs": [
    {
     "data": {
      "text/plain": [
       "PassengerId      0\n",
       "Survived         0\n",
       "Pclass           0\n",
       "Name             0\n",
       "Sex              0\n",
       "Age            177\n",
       "Fare             0\n",
       "dtype: int64"
      ]
     },
     "execution_count": 345,
     "metadata": {},
     "output_type": "execute_result"
    }
   ],
   "source": [
    "#Checking for missing values\n",
    "titanic_data.isnull().sum()"
   ]
  },
  {
   "cell_type": "markdown",
   "metadata": {
    "collapsed": true
   },
   "source": [
    "**In the above, we can see that there are still 177 missing values in the age column, we do not want to remove those rows entirely, as those rows have datapoints for the other variables we would like to examine. Thus, we will remove the missing values for 'Age' when examining the correlation between age and survival later on using titanic_data.dropna(axis=0)**"
   ]
  },
  {
   "cell_type": "markdown",
   "metadata": {},
   "source": [
    "# Descriptive Statistics of Titanic Data for high-level look at the dataframe \n",
    "\n",
    "By using the .describe funciton on the entire Dataframe, I can take a look at some of the cumulative measures\n",
    "of the data columns. Through this, I have learned that 891 total passengers are included in this data. Already, with a \n",
    "mean value of 0.38, I know more people in this data set died than survived."
   ]
  },
  {
   "cell_type": "code",
   "execution_count": 346,
   "metadata": {},
   "outputs": [
    {
     "name": "stdout",
     "output_type": "stream",
     "text": [
      "       PassengerId    Survived      Pclass         Age        Fare\n",
      "count   891.000000  891.000000  891.000000  714.000000  891.000000\n",
      "mean    446.000000    0.383838    2.308642   29.699118   32.204208\n",
      "std     257.353842    0.486592    0.836071   14.526497   49.693429\n",
      "min       1.000000    0.000000    1.000000    0.420000    0.000000\n",
      "25%     223.500000    0.000000    2.000000   20.125000    7.910400\n",
      "50%     446.000000    0.000000    3.000000   28.000000   14.454200\n",
      "75%     668.500000    1.000000    3.000000   38.000000   31.000000\n",
      "max     891.000000    1.000000    3.000000   80.000000  512.329200\n"
     ]
    }
   ],
   "source": [
    "print (titanic_data.describe())"
   ]
  },
  {
   "cell_type": "markdown",
   "metadata": {},
   "source": [
    "## Documentation Usage\n",
    "\n",
    "For all the upcoming correlation analysis, I looked up and applied pandas documentation found here https://pandas.pydata.org/pandas-docs/stable/generated/pandas.DataFrame.corr.html '''\n"
   ]
  },
  {
   "cell_type": "markdown",
   "metadata": {},
   "source": [
    "# Answering the Question: What is the correlation between age and survivial?\n",
    "Would like to determine whether Age was correlated with survival. NOTE: \n",
    "''' For the set_index function, I found this resource on Stackoverflow: https://stackoverflow.com/questions/38542419/could-pandas-use-column-as-index'''\n",
    "\n",
    "## Data Wrangling & Cleaning: \n",
    "To determine the relationship between age and survived, I will create a new dataframe with only the age, fare, and passengerId. I will then further clean the dataframe by setting the index to PassengerId for easy viewing."
   ]
  },
  {
   "cell_type": "code",
   "execution_count": 347,
   "metadata": {},
   "outputs": [
    {
     "name": "stdout",
     "output_type": "stream",
     "text": [
      "891\n",
      "714\n"
     ]
    }
   ],
   "source": [
    "#Alter the DataFrame to include just the age and survived columns, with the index of Passenger ID\n",
    "age_survived = titanic_data[['Age', 'Survived','PassengerId']]\n",
    "age_survived.set_index('PassengerId', inplace = True)\n",
    "print (len(age_survived))\n",
    "age_survived = age_survived.dropna(axis=0)\n",
    "print(len(age_survived))"
   ]
  },
  {
   "cell_type": "markdown",
   "metadata": {},
   "source": [
    "**In the above we removed the 177 missing values from AGE using the dropna function**"
   ]
  },
  {
   "cell_type": "code",
   "execution_count": 348,
   "metadata": {},
   "outputs": [
    {
     "name": "stdout",
     "output_type": "stream",
     "text": [
      "              Age  Survived\n",
      "PassengerId                \n",
      "1            22.0         0\n",
      "2            38.0         1\n",
      "3            26.0         1\n",
      "4            35.0         1\n",
      "5            35.0         0\n"
     ]
    }
   ],
   "source": [
    "#Printing age_survived to examine the data\n",
    "print (age_survived.head())"
   ]
  },
  {
   "cell_type": "code",
   "execution_count": 349,
   "metadata": {},
   "outputs": [
    {
     "data": {
      "text/html": [
       "<div>\n",
       "<style>\n",
       "    .dataframe thead tr:only-child th {\n",
       "        text-align: right;\n",
       "    }\n",
       "\n",
       "    .dataframe thead th {\n",
       "        text-align: left;\n",
       "    }\n",
       "\n",
       "    .dataframe tbody tr th {\n",
       "        vertical-align: top;\n",
       "    }\n",
       "</style>\n",
       "<table border=\"1\" class=\"dataframe\">\n",
       "  <thead>\n",
       "    <tr style=\"text-align: right;\">\n",
       "      <th></th>\n",
       "      <th>Age</th>\n",
       "      <th>Survived</th>\n",
       "    </tr>\n",
       "  </thead>\n",
       "  <tbody>\n",
       "    <tr>\n",
       "      <th>Age</th>\n",
       "      <td>1.000000</td>\n",
       "      <td>-0.077221</td>\n",
       "    </tr>\n",
       "    <tr>\n",
       "      <th>Survived</th>\n",
       "      <td>-0.077221</td>\n",
       "      <td>1.000000</td>\n",
       "    </tr>\n",
       "  </tbody>\n",
       "</table>\n",
       "</div>"
      ],
      "text/plain": [
       "               Age  Survived\n",
       "Age       1.000000 -0.077221\n",
       "Survived -0.077221  1.000000"
      ]
     },
     "execution_count": 349,
     "metadata": {},
     "output_type": "execute_result"
    }
   ],
   "source": [
    "#Check the correlation between Age and Survival\n",
    "age_survived.corr(method='pearson')"
   ]
  },
  {
   "cell_type": "markdown",
   "metadata": {},
   "source": [
    "**Age had very little to no correlation with survival. ** So, I have learned that how old you are did not correlate\n",
    "with survival, but perhaps there is gaps in this. \n",
    "I would like to examine just ages of children to see if age is correlated with survival if the passenger was a child\n",
    "\n",
    "# Answering the Question: What is the correlation between age (for children) and survival?\n",
    "\n",
    "## Data Wrangling & Cleaning: \n",
    "To determine the relationship between childs age and survival, I further cleaned the age_survived dataframe by indicating that I would only like to include rows in which the 'Age' column value was under 18. "
   ]
  },
  {
   "cell_type": "code",
   "execution_count": 350,
   "metadata": {
    "collapsed": true
   },
   "outputs": [],
   "source": [
    "age_survived_children = age_survived[age_survived['Age'] <18]\n",
    "#New variable above creates new DF where only passengers under age of 18 are included "
   ]
  },
  {
   "cell_type": "code",
   "execution_count": 351,
   "metadata": {},
   "outputs": [
    {
     "name": "stdout",
     "output_type": "stream",
     "text": [
      "              Age  Survived\n",
      "PassengerId                \n",
      "8             2.0         0\n",
      "10           14.0         1\n",
      "11            4.0         1\n",
      "15           14.0         0\n",
      "17            2.0         0\n"
     ]
    }
   ],
   "source": [
    "#print age_survived_children to examine the data\n",
    "print (age_survived_children.head())"
   ]
  },
  {
   "cell_type": "code",
   "execution_count": 352,
   "metadata": {},
   "outputs": [
    {
     "name": "stdout",
     "output_type": "stream",
     "text": [
      "113\n",
      "               Age  Survived\n",
      "Age       1.000000 -0.208059\n",
      "Survived -0.208059  1.000000\n"
     ]
    }
   ],
   "source": [
    "#There were 113 kids under the age of 18 on in the data\n",
    "print (len(age_survived_children))\n",
    "print (age_survived_children.corr(method='pearson'))"
   ]
  },
  {
   "cell_type": "markdown",
   "metadata": {},
   "source": [
    "**Correlation is higher on survival if you are a child \n",
    "rather than examining in totality, though still is low correlation. Would like to explore this further.**\n",
    "\n",
    "Perhaps by looking at the mean age for children who died vs children who survived, I can gain some\n",
    "understanding to survival based on childrens ages, especially if the data show the means \n",
    "are substanitally apart."
   ]
  },
  {
   "cell_type": "code",
   "execution_count": 353,
   "metadata": {
    "collapsed": true
   },
   "outputs": [],
   "source": [
    "mean_child_death= (age_survived_children[age_survived_children['Survived'] == 0].mean())\n",
    "mean_child_survive = (age_survived_children[age_survived_children['Survived'] == 1].mean())"
   ]
  },
  {
   "cell_type": "code",
   "execution_count": 354,
   "metadata": {},
   "outputs": [
    {
     "name": "stdout",
     "output_type": "stream",
     "text": [
      "The average age of a child who died on the Titanic was 10.3942307692\n",
      "The average age of a child who survived on the Titanic was 7.88803278689\n"
     ]
    }
   ],
   "source": [
    "print (\"The average age of a child who died on the Titanic was \" + str(mean_child_death['Age']))\n",
    "print (\"The average age of a child who survived on the Titanic was \" + str(mean_child_survive['Age']))"
   ]
  },
  {
   "cell_type": "markdown",
   "metadata": {},
   "source": [
    "**This data shows that older children did not survive as much as young children, which may explain the difference in correlation.**\n",
    "\n",
    "Now that we have explored child data, we can easily explore adult data.\n",
    "\n",
    "## Data Wrangling & Cleaning: \n",
    "To determine the relationship between adult age and survived, I will similarly alter the age_survived Dataframe to only include rows in which the 'Age' column was greater than 18. "
   ]
  },
  {
   "cell_type": "code",
   "execution_count": 355,
   "metadata": {},
   "outputs": [
    {
     "name": "stdout",
     "output_type": "stream",
     "text": [
      "601\n",
      "               Age  Survived\n",
      "Age       1.000000  0.013493\n",
      "Survived  0.013493  1.000000\n"
     ]
    }
   ],
   "source": [
    "\n",
    "#There were 601 passengers in this data set over the age of 18 on in the data\n",
    "age_survived_adults = age_survived[age_survived['Age'] >= 18]\n",
    "print (len(age_survived_adults))\n",
    "print (age_survived_adults.corr(method='pearson'))"
   ]
  },
  {
   "cell_type": "markdown",
   "metadata": {},
   "source": [
    "There were 601 passengers in this data set over the age of 18 on in the data.\n",
    "\n",
    "**Age of adults has almost no correlation to whether you survived or not.** This to me was a surprise, as\n",
    "I would have guessed older individuals would have substantially deceased at a greater rate.\n",
    "\n",
    "# Answering the Question: What is the correlation between fare paid and survival?"
   ]
  },
  {
   "cell_type": "markdown",
   "metadata": {},
   "source": [
    "## Discover how many fares were on the ship, what was the max fare, and who paid the max fare\n",
    "I would like to know how many different fares were paid as we are about to try and answer the question:\n",
    "**What is the correlation between fare paid and survival?**\n"
   ]
  },
  {
   "cell_type": "code",
   "execution_count": 356,
   "metadata": {},
   "outputs": [
    {
     "name": "stdout",
     "output_type": "stream",
     "text": [
      "248\n",
      "512.3292\n",
      "     PassengerId  Survived  Pclass                                Name  \\\n",
      "258          259         1       1                    Ward, Miss. Anna   \n",
      "679          680         1       1  Cardeza, Mr. Thomas Drake Martinez   \n",
      "737          738         1       1              Lesurer, Mr. Gustave J   \n",
      "\n",
      "        Sex   Age      Fare  \n",
      "258  female  35.0  512.3292  \n",
      "679    male  36.0  512.3292  \n",
      "737    male  35.0  512.3292  \n",
      "0.0\n",
      "     PassengerId  Survived  Pclass                              Name   Sex  \\\n",
      "179          180         0       3               Leonard, Mr. Lionel  male   \n",
      "263          264         0       1             Harrison, Mr. William  male   \n",
      "271          272         1       3      Tornquist, Mr. William Henry  male   \n",
      "277          278         0       2       Parkes, Mr. Francis \"Frank\"  male   \n",
      "302          303         0       3   Johnson, Mr. William Cahoone Jr  male   \n",
      "413          414         0       2    Cunningham, Mr. Alfred Fleming  male   \n",
      "466          467         0       2             Campbell, Mr. William  male   \n",
      "481          482         0       2  Frost, Mr. Anthony Wood \"Archie\"  male   \n",
      "597          598         0       3               Johnson, Mr. Alfred  male   \n",
      "633          634         0       1     Parr, Mr. William Henry Marsh  male   \n",
      "674          675         0       2        Watson, Mr. Ennis Hastings  male   \n",
      "732          733         0       2              Knight, Mr. Robert J  male   \n",
      "806          807         0       1            Andrews, Mr. Thomas Jr  male   \n",
      "815          816         0       1                  Fry, Mr. Richard  male   \n",
      "822          823         0       1   Reuchlin, Jonkheer. John George  male   \n",
      "\n",
      "      Age  Fare  \n",
      "179  36.0   0.0  \n",
      "263  40.0   0.0  \n",
      "271  25.0   0.0  \n",
      "277   NaN   0.0  \n",
      "302  19.0   0.0  \n",
      "413   NaN   0.0  \n",
      "466   NaN   0.0  \n",
      "481   NaN   0.0  \n",
      "597  49.0   0.0  \n",
      "633   NaN   0.0  \n",
      "674   NaN   0.0  \n",
      "732   NaN   0.0  \n",
      "806  39.0   0.0  \n",
      "815   NaN   0.0  \n",
      "822  38.0   0.0  \n"
     ]
    }
   ],
   "source": [
    "print (len(titanic_data['Fare'].unique()))\n",
    "print (titanic_data['Fare'].max())\n",
    "print (titanic_data[titanic_data['Fare'] == [titanic_data['Fare'].max()]])\n",
    "print (titanic_data['Fare'].min())\n",
    "print (titanic_data[titanic_data['Fare'] == [titanic_data['Fare'].min()]])"
   ]
  },
  {
   "cell_type": "markdown",
   "metadata": {},
   "source": [
    "\n",
    "**Here, we have learned that 3 people paid the maximum fare of 512.3292, and 15 people paid the minimum fare of 0.0, perhaps \n",
    "they were employees. Already, I can see that all of the people who paid 512 survived, while 14 out of 15 who paid 0.0\n",
    "perished.**"
   ]
  },
  {
   "cell_type": "markdown",
   "metadata": {},
   "source": [
    "## Data Wrangling: \n",
    "To determine the relationship between fare and survived, I will create a new dataframe with only the survived, fare, and pasengerId. I will then further clean the dataframe by setting the index to PassengerId, then sorting the values by 'Fare' to examine similar fares paid side by side."
   ]
  },
  {
   "cell_type": "code",
   "execution_count": 357,
   "metadata": {
    "collapsed": true
   },
   "outputs": [],
   "source": [
    "#Creating a new variable, fare_survived, that will be used to examine the relationship between Fare and survival \n",
    "fare_survived = titanic_data[['Survived','Fare','PassengerId']]\n",
    "fare_survived.set_index('PassengerId')\n",
    "fare_survived_sorted = fare_survived.sort_values('Fare', ascending = True)"
   ]
  },
  {
   "cell_type": "code",
   "execution_count": 358,
   "metadata": {},
   "outputs": [
    {
     "name": "stdout",
     "output_type": "stream",
     "text": [
      "     Survived  Fare  PassengerId\n",
      "271         1   0.0          272\n",
      "597         0   0.0          598\n",
      "302         0   0.0          303\n",
      "633         0   0.0          634\n",
      "277         0   0.0          278\n",
      "413         0   0.0          414\n",
      "674         0   0.0          675\n",
      "263         0   0.0          264\n",
      "466         0   0.0          467\n",
      "732         0   0.0          733\n",
      "179         0   0.0          180\n",
      "806         0   0.0          807\n",
      "481         0   0.0          482\n",
      "822         0   0.0          823\n",
      "815         0   0.0          816\n",
      "342\n",
      "549\n"
     ]
    }
   ],
   "source": [
    "#Examine the data, print out the number of deceased by substracting the number of survived.\n",
    "print (fare_survived_sorted.head(15))\n",
    "print (fare_survived['Survived'].sum())\n",
    "print (len(fare_survived['Survived']) - fare_survived['Survived'].sum())"
   ]
  },
  {
   "cell_type": "markdown",
   "metadata": {},
   "source": [
    "**342 people in this data survived, 549 perished**"
   ]
  },
  {
   "cell_type": "code",
   "execution_count": 359,
   "metadata": {
    "collapsed": true
   },
   "outputs": [],
   "source": [
    "#Find the average fare paid\n",
    "mean_fare = fare_survived.mean(axis=0)"
   ]
  },
  {
   "cell_type": "code",
   "execution_count": 360,
   "metadata": {},
   "outputs": [
    {
     "name": "stdout",
     "output_type": "stream",
     "text": [
      "Survived         0.383838\n",
      "Fare            32.204208\n",
      "PassengerId    446.000000\n",
      "dtype: float64\n"
     ]
    }
   ],
   "source": [
    "print (mean_fare)"
   ]
  },
  {
   "cell_type": "markdown",
   "metadata": {},
   "source": [
    "**Remembering the data from before, those $512 fare purchasers were well above the average fare paid.\n",
    "Would like to check how many standard deviations those purchasers were from the mean**"
   ]
  },
  {
   "cell_type": "code",
   "execution_count": 361,
   "metadata": {
    "collapsed": true
   },
   "outputs": [],
   "source": [
    "#Standardizing data to discover how fair away certain customers are from the mean average\n",
    "def standardize(x):\n",
    "    standardized_column = (x - x.mean()) / (x.std(ddof=0))\n",
    "    return standardized_column\n"
   ]
  },
  {
   "cell_type": "code",
   "execution_count": 362,
   "metadata": {
    "collapsed": true
   },
   "outputs": [],
   "source": [
    "#Standardizing the fare_survived column\n",
    "standardized_fare_survived = fare_survived.apply(standardize,axis=0)"
   ]
  },
  {
   "cell_type": "code",
   "execution_count": 363,
   "metadata": {
    "collapsed": true
   },
   "outputs": [],
   "source": [
    "#Sort the new standardized_fare_survived column \n",
    "standardized_fare_survived_sorted = standardized_fare_survived.sort_values('Fare', ascending = False)"
   ]
  },
  {
   "cell_type": "code",
   "execution_count": 364,
   "metadata": {},
   "outputs": [
    {
     "name": "stdout",
     "output_type": "stream",
     "text": [
      "     Survived      Fare  PassengerId\n",
      "258   1.26699  9.667167    -0.727034\n",
      "737   1.26699  9.667167     1.135262\n",
      "679   1.26699  9.667167     0.909765\n"
     ]
    }
   ],
   "source": [
    "print (standardized_fare_survived_sorted.head(3))"
   ]
  },
  {
   "cell_type": "markdown",
   "metadata": {},
   "source": [
    "If you remember, there were 3 total passengers who paid the max fare, now we can see\n",
    "that these folks paid more than 9.5 standard deviations away from the mean fare! **Wow!**"
   ]
  },
  {
   "cell_type": "code",
   "execution_count": 365,
   "metadata": {},
   "outputs": [
    {
     "name": "stdout",
     "output_type": "stream",
     "text": [
      "             Survived      Fare  PassengerId\n",
      "Survived     1.000000  0.257307    -0.005007\n",
      "Fare         0.257307  1.000000     0.012658\n",
      "PassengerId -0.005007  0.012658     1.000000\n"
     ]
    }
   ],
   "source": [
    "#Run correlation function to determine whether fare and survivial are correlated\n",
    "print (fare_survived.corr(method='pearson'))"
   ]
  },
  {
   "cell_type": "markdown",
   "metadata": {},
   "source": [
    "\n",
    "Surprisingly, despite all 3 max payers who survived and 14 out of 15 min payers deceased, Fare has little \n",
    "correlation with survival. \n",
    "\n",
    "Let's plot the fares of all who survived vs all those who deceased to see if these max payers are outliers\n",
    "\n",
    "## Data Wrangling & Cleaning: \n",
    "I created a new dataframe, survived_fare, in which only passengerId, Fare, and Survived are included. I set the index to the dataframe to PassengerId for easy viewing. \n",
    "\n",
    "Then, I subsequently cleaned the new survived_fare dataframe by creating a variable to store only rows in which the survivor count was \"1\", and another variable to store the rows in which the survivor count was \"0\". Then, I plotted the two on the same plot to visually show any difference."
   ]
  },
  {
   "cell_type": "code",
   "execution_count": 366,
   "metadata": {},
   "outputs": [
    {
     "name": "stdout",
     "output_type": "stream",
     "text": [
      "True\n"
     ]
    },
    {
     "data": {
      "image/png": "[encoded data removed]",
      "text/plain": [
       "<matplotlib.figure.Figure at 0x11ed2b710>"
      ]
     },
     "metadata": {},
     "output_type": "display_data"
    }
   ],
   "source": [
    "survived_fare = titanic_data[['PassengerId', 'Fare', 'Survived']]\n",
    "survived_fare.set_index('PassengerId')\n",
    "survived_fare_survivors = survived_fare[survived_fare['Survived'] == 1]\n",
    "ax1 = survived_fare_survivors.plot.scatter('PassengerId', 'Fare', color='r', label='Survivors')\n",
    "survived_fare_deceased = survived_fare[survived_fare['Survived'] == 0]\n",
    "ax2 = survived_fare_deceased.plot.scatter('PassengerId', 'Fare',color='g', ax=ax1, label='Deceased', title = 'Scatterplot of survivors and deceased from the Titanic')\n",
    "print (ax1 == ax2)"
   ]
  },
  {
   "cell_type": "markdown",
   "metadata": {},
   "source": [
    "\n",
    "**From this inital look, the very wealthy outliers on the ship seemed to survive, but there was only a few.**\n",
    "\n",
    "Let's now examine the role of sex in correlation with survival.\n",
    "\n",
    "# Answering Question: What is the correlation between sex and survival?\n",
    "\n",
    "## Data Wrangling & Cleaning: \n",
    "To determine the relationship between gender and survived, I created a new DataFrame consisting of the survived, sex, and passengerId columns from the titanic_data dataframe.\n",
    "\n",
    "Then, I replaced 'Male' with the value 0 and 'Female' with the value 1 in order to calculate correlation, and used the .groupby .sum() method to take a quick look at the sum of survivors from each category since survived = 1 or 0"
   ]
  },
  {
   "cell_type": "code",
   "execution_count": 367,
   "metadata": {
    "collapsed": true
   },
   "outputs": [],
   "source": [
    "#Create a DataFrame of just the columns we care about\n",
    "gender_survived = titanic_data[['Survived','Sex',\"PassengerId\"]]"
   ]
  },
  {
   "cell_type": "code",
   "execution_count": 368,
   "metadata": {},
   "outputs": [
    {
     "name": "stdout",
     "output_type": "stream",
     "text": [
      "   Survived     Sex  PassengerId\n",
      "0         0    male            1\n",
      "1         1  female            2\n",
      "2         1  female            3\n",
      "3         1  female            4\n",
      "4         0    male            5\n"
     ]
    }
   ],
   "source": [
    "#Examine the newly cleaned data\n",
    "print (gender_survived.head())"
   ]
  },
  {
   "cell_type": "code",
   "execution_count": 369,
   "metadata": {},
   "outputs": [
    {
     "name": "stdout",
     "output_type": "stream",
     "text": [
      "   Survived   Sex  PassengerId\n",
      "0         0  male            1\n",
      "1         1     1            2\n",
      "2         1     1            3\n",
      "3         1     1            4\n",
      "4         0  male            5\n"
     ]
    }
   ],
   "source": [
    "#Replace the value 'Female' - a string - with the value 1\n",
    "female_replaced = gender_survived.replace('female',1)\n",
    "print (female_replaced.head())"
   ]
  },
  {
   "cell_type": "code",
   "execution_count": 370,
   "metadata": {
    "collapsed": true
   },
   "outputs": [],
   "source": [
    "#Replace the value 'Male' - a string - with the value 0\n",
    "male_replaced = female_replaced.replace('male',0)\n",
    "#rename male_replaced \n",
    "survived_by_sex = male_replaced"
   ]
  },
  {
   "cell_type": "code",
   "execution_count": 371,
   "metadata": {},
   "outputs": [
    {
     "name": "stdout",
     "output_type": "stream",
     "text": [
      "             Survived       Sex  PassengerId\n",
      "Survived     1.000000  0.543351    -0.005007\n",
      "Sex          0.543351  1.000000    -0.042939\n",
      "PassengerId -0.005007 -0.042939     1.000000\n"
     ]
    }
   ],
   "source": [
    "print (survived_by_sex.corr(method='pearson'))"
   ]
  },
  {
   "cell_type": "markdown",
   "metadata": {},
   "source": [
    "**Sex has a high correlation with survival. MUCH higher than presence of children/parent, age, \n",
    "or fare paid.**"
   ]
  },
  {
   "cell_type": "code",
   "execution_count": 372,
   "metadata": {},
   "outputs": [
    {
     "name": "stdout",
     "output_type": "stream",
     "text": [
      "        Survivors\n",
      "Sex              \n",
      "Male          109\n",
      "Female        233\n"
     ]
    },
    {
     "data": {
      "text/plain": [
       "<matplotlib.text.Text at 0x1210d7c88>"
      ]
     },
     "execution_count": 372,
     "metadata": {},
     "output_type": "execute_result"
    },
    {
     "data": {
      "image/png": "[encoded data removed]",
      "text/plain": [
       "<matplotlib.figure.Figure at 0x120e47a20>"
      ]
     },
     "metadata": {},
     "output_type": "display_data"
    }
   ],
   "source": [
    "#Examining descriptive statistics for the sex category since sex is highly correlated with survival'''\n",
    "total_survived_by_sex = survived_by_sex.groupby('Sex').sum()\n",
    "total_survived_by_sex = total_survived_by_sex['Survived']\n",
    "male_survived = total_survived_by_sex.loc[0]\n",
    "female_survived = total_survived_by_sex.loc[1]\n",
    "total_survived_by_sex = np.array(total_survived_by_sex.loc[0:1])\n",
    "total_survived_by_sex = pd.DataFrame(total_survived_by_sex)\n",
    "total_survived_by_sex['Sex'] = ['Male','Female']\n",
    "total_survived_by_sex = total_survived_by_sex.rename(columns = {0:'Survivors'})\n",
    "total_survived_by_sex = total_survived_by_sex.set_index('Sex')\n",
    "print (total_survived_by_sex)\n",
    "total_survived_sex_plot = total_survived_by_sex.plot(kind='bar', title='Total Survived By Sex')\n",
    "total_survived_sex_plot.set_ylabel('# of Survivors')\n",
    "\n",
    "\n"
   ]
  },
  {
   "cell_type": "markdown",
   "metadata": {},
   "source": [
    "**The above bar graph depcits the total survived by sex for males and females. A stark contrast in the two bars shows a much greater number of female survivors are present in the data. **\n",
    "\n",
    "Also, I found documentation to add labels to yaxis: https://stackoverflow.com/questions/21487329/add-x-and-y-labels-to-a-pandas-plot\n",
    "\n",
    "# Answering the Question: What is the survival percentage, based on this data, if you are a female, and what is the survival percentage if you are a male?\n",
    "\n",
    "## Data Wrangling & Cleaning: \n",
    "In this section, I renamed the DataFrame for percentages as a nparray to rename the columns and index for eventual plotting, then reverted back to Pandas DataFrame before plotting. \n",
    "\n"
   ]
  },
  {
   "cell_type": "code",
   "execution_count": 373,
   "metadata": {},
   "outputs": [
    {
     "name": "stdout",
     "output_type": "stream",
     "text": [
      "0.347133757962\n",
      "0.403812824957\n"
     ]
    }
   ],
   "source": [
    "#Find the total deceased by sex for analysis of the survival percentage\n",
    "def find_total_passengers_by_sex(value):\n",
    "    passengers = len(survived_by_sex[survived_by_sex['Sex'] == value])\n",
    "    return passengers\n",
    "\n",
    "female_passengers = find_total_passengers_by_sex([0])\n",
    "male_passengers = find_total_passengers_by_sex([1])\n",
    "\n",
    "def percentage(value1,value2):\n",
    "    return value1 / value2\n",
    "\n",
    "male_survival_percentage = (percentage(male_survived,male_passengers))\n",
    "female_survival_percentage = (percentage(female_survived,female_passengers))\n",
    "print (male_survival_percentage)\n",
    "print (female_survival_percentage)"
   ]
  },
  {
   "cell_type": "code",
   "execution_count": 374,
   "metadata": {},
   "outputs": [
    {
     "name": "stdout",
     "output_type": "stream",
     "text": [
      "[ 0.34713376  0.40381282]\n"
     ]
    }
   ],
   "source": [
    "survival_percentages = np.array([male_survival_percentage,female_survival_percentage])\n",
    "print (survival_percentages)"
   ]
  },
  {
   "cell_type": "code",
   "execution_count": 375,
   "metadata": {},
   "outputs": [
    {
     "name": "stdout",
     "output_type": "stream",
     "text": [
      "          0\n",
      "0  0.347134\n",
      "1  0.403813\n",
      "         Percent\n",
      "Sex             \n",
      "Male    0.347134\n",
      "Female  0.403813\n"
     ]
    }
   ],
   "source": [
    "survival_percentages_df = pd.DataFrame(survival_percentages)\n",
    "print (survival_percentages_df)\n",
    "survival_percentages_df['Sex'] = ['Male','Female']\n",
    "survival_percentages_df=survival_percentages_df.rename(columns = {0:'Percent'})\n",
    "percent_survived_indexed = survival_percentages_df.set_index('Sex')\n",
    "print (percent_survived_indexed)"
   ]
  },
  {
   "cell_type": "code",
   "execution_count": 376,
   "metadata": {},
   "outputs": [
    {
     "data": {
      "text/plain": [
       "<matplotlib.text.Text at 0x1210185c0>"
      ]
     },
     "execution_count": 376,
     "metadata": {},
     "output_type": "execute_result"
    },
    {
     "data": {
      "image/png": "[encoded data removed]",
      "text/plain": [
       "<matplotlib.figure.Figure at 0x120e896d8>"
      ]
     },
     "metadata": {},
     "output_type": "display_data"
    }
   ],
   "source": [
    "percent_survived_plot = percent_survived_indexed.plot(kind='bar', title = 'Survival Percentage by Sex',)\n",
    "percent_survived_plot.set_ylabel('Survival Percentage')"
   ]
  },
  {
   "cell_type": "markdown",
   "metadata": {},
   "source": [
    "**The above barchat depicts the survival percentage by sex, showing that women, on average, have a greater percentage of survival than their male counterparts.**\n",
    "\n",
    "Would now like to begin examining the relationship between the variables of class and age to determine how age differed within the various passenger classes\n",
    "\n",
    "## Data Wrangling & Cleaning: \n",
    "To determine the relationship between age and class, I will create a new dataframe with only the Pclass and Age columns, then sort the data by PClass to examine the various classes alongside values within them, subsequently setting the index to Pclass in order to examine that further and using dropna.() function to remove NaN from the age category"
   ]
  },
  {
   "cell_type": "code",
   "execution_count": 377,
   "metadata": {
    "collapsed": true
   },
   "outputs": [],
   "source": [
    "#Create a new variable of just class and age.\n",
    "class_age = titanic_data[['Pclass','Age']]"
   ]
  },
  {
   "cell_type": "code",
   "execution_count": 378,
   "metadata": {
    "collapsed": true
   },
   "outputs": [],
   "source": [
    "#Sort the table values according to descending Plasse\n",
    "class_age_sort = class_age.sort_values('Pclass',ascending = True)"
   ]
  },
  {
   "cell_type": "code",
   "execution_count": 379,
   "metadata": {},
   "outputs": [
    {
     "data": {
      "text/html": [
       "<div>\n",
       "<style>\n",
       "    .dataframe thead tr:only-child th {\n",
       "        text-align: right;\n",
       "    }\n",
       "\n",
       "    .dataframe thead th {\n",
       "        text-align: left;\n",
       "    }\n",
       "\n",
       "    .dataframe tbody tr th {\n",
       "        vertical-align: top;\n",
       "    }\n",
       "</style>\n",
       "<table border=\"1\" class=\"dataframe\">\n",
       "  <thead>\n",
       "    <tr style=\"text-align: right;\">\n",
       "      <th></th>\n",
       "      <th>Age</th>\n",
       "    </tr>\n",
       "    <tr>\n",
       "      <th>Pclass</th>\n",
       "      <th></th>\n",
       "    </tr>\n",
       "  </thead>\n",
       "  <tbody>\n",
       "    <tr>\n",
       "      <th>1</th>\n",
       "      <td>4.00</td>\n",
       "    </tr>\n",
       "    <tr>\n",
       "      <th>1</th>\n",
       "      <td>24.00</td>\n",
       "    </tr>\n",
       "    <tr>\n",
       "      <th>1</th>\n",
       "      <td>30.00</td>\n",
       "    </tr>\n",
       "    <tr>\n",
       "      <th>1</th>\n",
       "      <td>17.00</td>\n",
       "    </tr>\n",
       "    <tr>\n",
       "      <th>1</th>\n",
       "      <td>0.92</td>\n",
       "    </tr>\n",
       "    <tr>\n",
       "      <th>1</th>\n",
       "      <td>24.00</td>\n",
       "    </tr>\n",
       "    <tr>\n",
       "      <th>1</th>\n",
       "      <td>18.00</td>\n",
       "    </tr>\n",
       "    <tr>\n",
       "      <th>1</th>\n",
       "      <td>48.00</td>\n",
       "    </tr>\n",
       "    <tr>\n",
       "      <th>1</th>\n",
       "      <td>2.00</td>\n",
       "    </tr>\n",
       "    <tr>\n",
       "      <th>1</th>\n",
       "      <td>38.00</td>\n",
       "    </tr>\n",
       "    <tr>\n",
       "      <th>1</th>\n",
       "      <td>19.00</td>\n",
       "    </tr>\n",
       "    <tr>\n",
       "      <th>1</th>\n",
       "      <td>26.00</td>\n",
       "    </tr>\n",
       "    <tr>\n",
       "      <th>1</th>\n",
       "      <td>53.00</td>\n",
       "    </tr>\n",
       "    <tr>\n",
       "      <th>1</th>\n",
       "      <td>50.00</td>\n",
       "    </tr>\n",
       "    <tr>\n",
       "      <th>1</th>\n",
       "      <td>22.00</td>\n",
       "    </tr>\n",
       "    <tr>\n",
       "      <th>1</th>\n",
       "      <td>40.00</td>\n",
       "    </tr>\n",
       "    <tr>\n",
       "      <th>1</th>\n",
       "      <td>22.00</td>\n",
       "    </tr>\n",
       "    <tr>\n",
       "      <th>1</th>\n",
       "      <td>60.00</td>\n",
       "    </tr>\n",
       "    <tr>\n",
       "      <th>1</th>\n",
       "      <td>49.00</td>\n",
       "    </tr>\n",
       "    <tr>\n",
       "      <th>1</th>\n",
       "      <td>24.00</td>\n",
       "    </tr>\n",
       "    <tr>\n",
       "      <th>1</th>\n",
       "      <td>45.00</td>\n",
       "    </tr>\n",
       "    <tr>\n",
       "      <th>1</th>\n",
       "      <td>41.00</td>\n",
       "    </tr>\n",
       "    <tr>\n",
       "      <th>1</th>\n",
       "      <td>31.00</td>\n",
       "    </tr>\n",
       "    <tr>\n",
       "      <th>1</th>\n",
       "      <td>29.00</td>\n",
       "    </tr>\n",
       "    <tr>\n",
       "      <th>1</th>\n",
       "      <td>35.00</td>\n",
       "    </tr>\n",
       "    <tr>\n",
       "      <th>1</th>\n",
       "      <td>38.00</td>\n",
       "    </tr>\n",
       "    <tr>\n",
       "      <th>1</th>\n",
       "      <td>45.50</td>\n",
       "    </tr>\n",
       "    <tr>\n",
       "      <th>1</th>\n",
       "      <td>16.00</td>\n",
       "    </tr>\n",
       "    <tr>\n",
       "      <th>1</th>\n",
       "      <td>36.00</td>\n",
       "    </tr>\n",
       "    <tr>\n",
       "      <th>1</th>\n",
       "      <td>42.00</td>\n",
       "    </tr>\n",
       "    <tr>\n",
       "      <th>...</th>\n",
       "      <td>...</td>\n",
       "    </tr>\n",
       "    <tr>\n",
       "      <th>3</th>\n",
       "      <td>19.00</td>\n",
       "    </tr>\n",
       "    <tr>\n",
       "      <th>3</th>\n",
       "      <td>16.00</td>\n",
       "    </tr>\n",
       "    <tr>\n",
       "      <th>3</th>\n",
       "      <td>28.00</td>\n",
       "    </tr>\n",
       "    <tr>\n",
       "      <th>3</th>\n",
       "      <td>24.00</td>\n",
       "    </tr>\n",
       "    <tr>\n",
       "      <th>3</th>\n",
       "      <td>22.00</td>\n",
       "    </tr>\n",
       "    <tr>\n",
       "      <th>3</th>\n",
       "      <td>31.00</td>\n",
       "    </tr>\n",
       "    <tr>\n",
       "      <th>3</th>\n",
       "      <td>39.00</td>\n",
       "    </tr>\n",
       "    <tr>\n",
       "      <th>3</th>\n",
       "      <td>26.00</td>\n",
       "    </tr>\n",
       "    <tr>\n",
       "      <th>3</th>\n",
       "      <td>21.00</td>\n",
       "    </tr>\n",
       "    <tr>\n",
       "      <th>3</th>\n",
       "      <td>21.00</td>\n",
       "    </tr>\n",
       "    <tr>\n",
       "      <th>3</th>\n",
       "      <td>28.00</td>\n",
       "    </tr>\n",
       "    <tr>\n",
       "      <th>3</th>\n",
       "      <td>51.00</td>\n",
       "    </tr>\n",
       "    <tr>\n",
       "      <th>3</th>\n",
       "      <td>21.00</td>\n",
       "    </tr>\n",
       "    <tr>\n",
       "      <th>3</th>\n",
       "      <td>44.00</td>\n",
       "    </tr>\n",
       "    <tr>\n",
       "      <th>3</th>\n",
       "      <td>20.00</td>\n",
       "    </tr>\n",
       "    <tr>\n",
       "      <th>3</th>\n",
       "      <td>28.00</td>\n",
       "    </tr>\n",
       "    <tr>\n",
       "      <th>3</th>\n",
       "      <td>40.00</td>\n",
       "    </tr>\n",
       "    <tr>\n",
       "      <th>3</th>\n",
       "      <td>45.00</td>\n",
       "    </tr>\n",
       "    <tr>\n",
       "      <th>3</th>\n",
       "      <td>35.00</td>\n",
       "    </tr>\n",
       "    <tr>\n",
       "      <th>3</th>\n",
       "      <td>30.00</td>\n",
       "    </tr>\n",
       "    <tr>\n",
       "      <th>3</th>\n",
       "      <td>1.00</td>\n",
       "    </tr>\n",
       "    <tr>\n",
       "      <th>3</th>\n",
       "      <td>19.00</td>\n",
       "    </tr>\n",
       "    <tr>\n",
       "      <th>3</th>\n",
       "      <td>3.00</td>\n",
       "    </tr>\n",
       "    <tr>\n",
       "      <th>3</th>\n",
       "      <td>22.00</td>\n",
       "    </tr>\n",
       "    <tr>\n",
       "      <th>3</th>\n",
       "      <td>20.00</td>\n",
       "    </tr>\n",
       "    <tr>\n",
       "      <th>3</th>\n",
       "      <td>19.00</td>\n",
       "    </tr>\n",
       "    <tr>\n",
       "      <th>3</th>\n",
       "      <td>1.00</td>\n",
       "    </tr>\n",
       "    <tr>\n",
       "      <th>3</th>\n",
       "      <td>32.00</td>\n",
       "    </tr>\n",
       "    <tr>\n",
       "      <th>3</th>\n",
       "      <td>18.00</td>\n",
       "    </tr>\n",
       "    <tr>\n",
       "      <th>3</th>\n",
       "      <td>32.00</td>\n",
       "    </tr>\n",
       "  </tbody>\n",
       "</table>\n",
       "<p>714 rows × 1 columns</p>\n",
       "</div>"
      ],
      "text/plain": [
       "          Age\n",
       "Pclass       \n",
       "1        4.00\n",
       "1       24.00\n",
       "1       30.00\n",
       "1       17.00\n",
       "1        0.92\n",
       "1       24.00\n",
       "1       18.00\n",
       "1       48.00\n",
       "1        2.00\n",
       "1       38.00\n",
       "1       19.00\n",
       "1       26.00\n",
       "1       53.00\n",
       "1       50.00\n",
       "1       22.00\n",
       "1       40.00\n",
       "1       22.00\n",
       "1       60.00\n",
       "1       49.00\n",
       "1       24.00\n",
       "1       45.00\n",
       "1       41.00\n",
       "1       31.00\n",
       "1       29.00\n",
       "1       35.00\n",
       "1       38.00\n",
       "1       45.50\n",
       "1       16.00\n",
       "1       36.00\n",
       "1       42.00\n",
       "...       ...\n",
       "3       19.00\n",
       "3       16.00\n",
       "3       28.00\n",
       "3       24.00\n",
       "3       22.00\n",
       "3       31.00\n",
       "3       39.00\n",
       "3       26.00\n",
       "3       21.00\n",
       "3       21.00\n",
       "3       28.00\n",
       "3       51.00\n",
       "3       21.00\n",
       "3       44.00\n",
       "3       20.00\n",
       "3       28.00\n",
       "3       40.00\n",
       "3       45.00\n",
       "3       35.00\n",
       "3       30.00\n",
       "3        1.00\n",
       "3       19.00\n",
       "3        3.00\n",
       "3       22.00\n",
       "3       20.00\n",
       "3       19.00\n",
       "3        1.00\n",
       "3       32.00\n",
       "3       18.00\n",
       "3       32.00\n",
       "\n",
       "[714 rows x 1 columns]"
      ]
     },
     "execution_count": 379,
     "metadata": {},
     "output_type": "execute_result"
    }
   ],
   "source": [
    "#Set the index of the table to Pclass.\n",
    "class_age_sort = class_age_sort.set_index('Pclass')\n",
    "#Clean the data to remove rows that have NaN in the age column\n",
    "class_age_sort.dropna(axis=0)"
   ]
  },
  {
   "cell_type": "code",
   "execution_count": 380,
   "metadata": {},
   "outputs": [
    {
     "name": "stdout",
     "output_type": "stream",
     "text": [
      "     Age\n",
      "Age  1.0\n"
     ]
    }
   ],
   "source": [
    "print (class_age_sort.corr(method='pearson'))\n",
    "#Your age has a medium correlation with what class you are."
   ]
  },
  {
   "cell_type": "markdown",
   "metadata": {},
   "source": [
    "# Answering the Question: What is the mean age per class aboard the titanic?\n",
    "\n",
    "## Data Wrangling & Cleaning: \n",
    "Grouped the previously created class_age_sort dataframe by class age.mean() in order to easily see the various mean ages for different classes."
   ]
  },
  {
   "cell_type": "code",
   "execution_count": 381,
   "metadata": {},
   "outputs": [
    {
     "name": "stdout",
     "output_type": "stream",
     "text": [
      "              Age\n",
      "Pclass           \n",
      "1       38.233441\n",
      "2       29.877630\n",
      "3       25.140620\n"
     ]
    }
   ],
   "source": [
    "#Group the values to the mean figure of all Pclass age by class\n",
    "mean_age_by_class = class_age_sort.groupby('Pclass').mean()\n",
    "print (mean_age_by_class)"
   ]
  },
  {
   "cell_type": "code",
   "execution_count": 382,
   "metadata": {},
   "outputs": [
    {
     "data": {
      "text/plain": [
       "<matplotlib.text.Text at 0x11fd59d68>"
      ]
     },
     "execution_count": 382,
     "metadata": {},
     "output_type": "execute_result"
    },
    {
     "data": {
      "image/png": "[encoded data removed]",
      "text/plain": [
       "<matplotlib.figure.Figure at 0x1211c8ac8>"
      ]
     },
     "metadata": {},
     "output_type": "display_data"
    },
    {
     "data": {
      "image/png": "[encoded data removed]",
      "text/plain": [
       "<matplotlib.figure.Figure at 0x1213e7208>"
      ]
     },
     "metadata": {},
     "output_type": "display_data"
    },
    {
     "data": {
      "image/png": "[encoded data removed]",
      "text/plain": [
       "<matplotlib.figure.Figure at 0x11fd1a668>"
      ]
     },
     "metadata": {},
     "output_type": "display_data"
    },
    {
     "data": {
      "image/png": "[encoded data removed]",
      "text/plain": [
       "<matplotlib.figure.Figure at 0x11fbf4c18>"
      ]
     },
     "metadata": {},
     "output_type": "display_data"
    }
   ],
   "source": [
    "plot_mean_age = mean_age_by_class.plot.bar(title = 'Average age by Class')\n",
    "plot_mean_age.set_xlabel('Class')\n",
    "plot_mean_age.set_ylabel('Age')\n",
    "class1 = class_age_sort.loc[1]\n",
    "class2 = class_age_sort.loc[2]\n",
    "class3 = class_age_sort.loc[3]\n",
    "class1_plot = class1.plot.hist(title = 'Age distribution: Class1')\n",
    "class1_plot.set_xlabel('Age')\n",
    "class1_plot.set_ylabel('# of People')\n",
    "class2_plot = class2.plot.hist(title = 'Age distribution: Class2')\n",
    "class2_plot.set_xlabel('Age')\n",
    "class2_plot.set_ylabel('# of People')\n",
    "class3_plot = class3.plot.hist(title = 'Age distribution: Class3')\n",
    "class3_plot.set_xlabel('Age')\n",
    "class3_plot.set_ylabel('# of People')"
   ]
  },
  {
   "cell_type": "markdown",
   "metadata": {},
   "source": [
    "** '''1st class passengers are, on average, older than the other passengers'''** This answers the following question: Question 6: What is the mean age per class aboard the titanic? Also, examining the data through histograms of age by class, we can see stronger distribution near the 40 year old mark in the first class data, while 2nd class and 3rd class Histograms do not.\n",
    "\n",
    "# Answering the Question: Who is the oldest survivor, youngest survivor, oldest deceased, and youngest deceased?\n",
    "\n",
    "## Data Wrangling & Cleaning: \n",
    "Used the previously created age_survived DataFrame to find the .max() and .min() figures from rows who survived or died on the Titanic. Then, used the loc function to find the names of those individuals."
   ]
  },
  {
   "cell_type": "code",
   "execution_count": 383,
   "metadata": {},
   "outputs": [
    {
     "name": "stdout",
     "output_type": "stream",
     "text": [
      "Age         74.0\n",
      "Survived     0.0\n",
      "dtype: float64\n",
      "Age         80.0\n",
      "Survived     1.0\n",
      "dtype: float64\n",
      "Age         1.0\n",
      "Survived    0.0\n",
      "dtype: float64\n",
      "Age         0.42\n",
      "Survived    1.00\n",
      "dtype: float64\n"
     ]
    }
   ],
   "source": [
    "#Find the oldest survivor, oldest deceased, youngest survivor, youngest deceased. \n",
    "print (age_survived[age_survived['Survived'] == 0].max()) #Oldest deceased was 74\n",
    "print (age_survived[age_survived['Survived'] == 1].max()) #Oldest survived was 80\n",
    "print (age_survived[age_survived['Survived'] == 0].min()) #Youngest decased was 1\n",
    "print (age_survived[age_survived['Survived'] == 1].min()) #Youngest survivor was .42"
   ]
  },
  {
   "cell_type": "code",
   "execution_count": 384,
   "metadata": {},
   "outputs": [
    {
     "name": "stdout",
     "output_type": "stream",
     "text": [
      "630    Barkworth, Mr. Algernon Henry Wilson\n",
      "Name: Name, dtype: object\n",
      "851    Svensson, Mr. Johan\n",
      "Name: Name, dtype: object\n",
      "164       Panula, Master. Eino Viljami\n",
      "172       Johnson, Miss. Eleanor Ileen\n",
      "183          Becker, Master. Richard F\n",
      "381        Nakid, Miss. Maria (\"Mary\")\n",
      "386    Goodwin, Master. Sidney Leonard\n",
      "788         Dean, Master. Bertram Vere\n",
      "827              Mallet, Master. Andre\n",
      "Name: Name, dtype: object\n",
      "803    Thomas, Master. Assad Alexander\n",
      "Name: Name, dtype: object\n"
     ]
    }
   ],
   "source": [
    "#Finding out who represents the oldest and youngest survivor and oldest and youngest deceased\n",
    "print (titanic_data.loc[titanic_data['Age'] == 80.0]['Name'])\n",
    "print (titanic_data.loc[titanic_data['Age'] == 74.0]['Name'])\n",
    "print (titanic_data.loc[titanic_data['Age'] == 1.0]['Name'])\n",
    "print (titanic_data.loc[titanic_data['Age'] == 0.42]['Name'])"
   ]
  },
  {
   "cell_type": "markdown",
   "metadata": {},
   "source": [
    "**The above printout shows the oldest/youngest passengers who survived and who died on the Titanic. NOTE: 7 children make up the youngest passengers who died, as they all share the same age of 1.0 **"
   ]
  },
  {
   "cell_type": "markdown",
   "metadata": {},
   "source": [
    "\n",
    "# Conclusion: \n",
    "\n",
    "**Question 1: What is the correlation between sex and survival?**\n",
    "I sought to figure out a few characteristics and determinants of survival aboard the Titanic. \n",
    "After analysis, I have determined that Sex was a characteristic \n",
    "highly correlated with survival (correlation = 0.543351). \n",
    "If you were a woman, you survived at a higher rate as well than if you were male.\n",
    "\n",
    "**Question 2: What is the correlation between fare paid and survival? **\n",
    "Fare paid also had very little correlation with survival. At the inital glance, the 3 individuals who paid\n",
    "the maximum fare all survived, while 14 out of 15 passengers who paid the minimum fare perished. I would have\n",
    "guessed this would have resulted in higher correlation between fare and survival, but this was not the case. \n",
    "\n",
    "A scatter plot showed that the maximum payers were true outliers in the dataset, and there expenditure and survival\n",
    "were the exception to the rule aboard the titanic.\n",
    "\n",
    "The actually correlation for fare paid and survival was 0.257307.\n",
    "\n",
    "**Question 3: What is the correlation between age and survivial? AND**\n",
    "**Question 4: What is the correlation between age (for children) and survival?**\n",
    "\n",
    "Suprisingly, age was not highly correlated with survival (Correlation = 0.077221). I approached this analysis with the assumption\n",
    "that older individuals would be highly correlated with death while younger with survival, but a Pearson\n",
    "correlation showed that to be not the case.\n",
    "\n",
    "Interestingly, for children, the correlation was stronger with survival (0.208059) than viewing age in its totality.\n",
    "\n",
    "**Question 5: Who is the oldest survivor, youngest survivor, oldest deceased, and youngest deceased?**\n",
    "I wanted to know more about the survivors and those perished, notably, who was the oldest and youngest survivor, \n",
    "and who were the oldest and youngest who perished. After extracting names, I sadly learned that the youngest\n",
    "age of death was 1 years old aboard the Titanic, and tragically, 7 children fit that age. \n",
    "\n",
    "\n",
    "Oldest Survived: Barkworth, Mr. Algernon Henry Wilson - 80\n",
    "Oldest Deceased: Svensson, Mr. Johan, 74\n",
    "\n",
    "Youngest Deceased (1 years old): \n",
    "Panula, Master. Eino Viljami\n",
    "Johnson, Miss. Eleanor Ileen\n",
    "Becker, Master. Richard F\n",
    "Nakid, Miss. Maria (\"Mary\")\n",
    "Goodwin, Master. Sidney Leonard\n",
    "Dean, Master. Bertram Vere\n",
    "Mallet, Master. Andre\n",
    "\n",
    "Youngest Survived: \n",
    "Thomas, Master. Assad Alexander: .42\n",
    "**Question 6: What is the mean age per class aboard the titanic?**\n",
    "I also wanted to examine the relationship between age and class. It turns out that the average age of a 1st class\n",
    "passenger was approximately 13 years older than that of the 3rd class passenger, logical when you consider \n",
    "wealth accumulation takes time. The first class passenger mean age was 38.233441, second class was 29.877630, and \n",
    "third class was 25.140620.\n",
    "\n",
    "**Question 7: What is the survival percentage, based on this data, if you are a female, and what is the survival percentage**\n",
    "if you are a male. \n",
    "The survival percentage for a male is just over 34%, while the survival percentage for a female is more than 40%.\n",
    "\n",
    "\n",
    "**Limitations to the analysis:** Firstly, the dataset does not contain all the information regarding every \n",
    "passenger that was on the Titanic. In fact, when looking at sex, we saw that the data heavily skews towards\n",
    "female passengers than male passengers, both in totality and in survivors and number deceased. Though we\n",
    "found sex to be highly-correlated with survival, this may not be the case should the researcher have had\n",
    "access to the entirety of the data. Thus, the survival percentage also calcuated based on sex is without\n",
    "question limited in its scope. "
   ]
  }
 ],
 "metadata": {
  "kernelspec": {
   "display_name": "Python [conda env:py3]",
   "language": "python",
   "name": "conda-env-py3-py"
  },
  "language_info": {
   "codemirror_mode": {
    "name": "ipython",
    "version": 3
   },
   "file_extension": ".py",
   "mimetype": "text/x-python",
   "name": "python",
   "nbconvert_exporter": "python",
   "pygments_lexer": "ipython3",
   "version": "3.6.2"
  }
 },
 "nbformat": 4,
 "nbformat_minor": 2
}
